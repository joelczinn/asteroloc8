{
 "cells": [
  {
   "cell_type": "code",
   "execution_count": 9,
   "metadata": {
    "collapsed": false
   },
   "outputs": [
    {
     "ename": "ImportError",
     "evalue": "cannot import name 'detections'",
     "output_type": "error",
     "traceback": [
      "\u001b[0;31m---------------------------------------------------------------------------\u001b[0m",
      "\u001b[0;31mImportError\u001b[0m                               Traceback (most recent call last)",
      "\u001b[0;32m<ipython-input-9-d76dcb49779f>\u001b[0m in \u001b[0;36m<module>\u001b[0;34m()\u001b[0m\n\u001b[1;32m      1\u001b[0m \u001b[0;32mimport\u001b[0m \u001b[0mnumpy\u001b[0m \u001b[0;32mas\u001b[0m \u001b[0mnp\u001b[0m\u001b[0;34m\u001b[0m\u001b[0m\n\u001b[0;32m----> 2\u001b[0;31m \u001b[0;32mfrom\u001b[0m \u001b[0masteroestimate\u001b[0m \u001b[0;32mimport\u001b[0m \u001b[0mdetections\u001b[0m\u001b[0;34m\u001b[0m\u001b[0m\n\u001b[0m\u001b[1;32m      3\u001b[0m \u001b[0;32mfrom\u001b[0m \u001b[0masteroestimate\u001b[0m\u001b[0;34m.\u001b[0m\u001b[0mdetections\u001b[0m \u001b[0;32mimport\u001b[0m \u001b[0mprobability\u001b[0m \u001b[0;32mas\u001b[0m \u001b[0mprob\u001b[0m\u001b[0;34m\u001b[0m\u001b[0m\n\u001b[1;32m      4\u001b[0m \u001b[0;32mfrom\u001b[0m \u001b[0mscipy\u001b[0m\u001b[0;34m.\u001b[0m\u001b[0mstats\u001b[0m \u001b[0;32mimport\u001b[0m \u001b[0mnorm\u001b[0m\u001b[0;34m,\u001b[0m \u001b[0mmultivariate_normal\u001b[0m\u001b[0;34m\u001b[0m\u001b[0m\n\u001b[1;32m      5\u001b[0m \u001b[0;32mclass\u001b[0m \u001b[0mNuPrior\u001b[0m\u001b[0;34m(\u001b[0m\u001b[0mobject\u001b[0m\u001b[0;34m)\u001b[0m\u001b[0;34m:\u001b[0m\u001b[0;34m\u001b[0m\u001b[0m\n",
      "\u001b[0;31mImportError\u001b[0m: cannot import name 'detections'"
     ]
    }
   ],
   "source": [
    "import numpy as np  \n",
    "from asteroestimate import detections\n",
    "from asteroestimate.detections import probability as prob                                               \n",
    "from scipy.stats import norm, multivariate_normal \n",
    "class NuPrior(object):\n",
    "    '''                                                                                              \n",
    "    Provide guesses for numax using three different methods and also optionally numax prior distributions.\n",
    "    1) specnmx()\n",
    "     Uses spectroscopic log g + spectroscopic temperature.\n",
    "    2) gaiascalnmx()\n",
    "     Uses Gaia parallax + apparent magnitude + bolometric correction + photometric temperature + optional extinction.\n",
    "    3) gaiamlnmx():\n",
    "     Uses a data-driven approach to map Gaia luminosity to numax.\n",
    "    '''\n",
    "    \n",
    "    def __init__(plx=None, plx_err=None, logg_spec=None, logg_spec_err=None, teff_spec=None, teff_spec_err=None,\n",
    "                 jmag=None, jmag_err=None, hmag=None, hmag_err=None, kmag=None, kmag_err=None):\n",
    "        ''' \n",
    "        INPUTS:                                                                                              \n",
    "        [ plx, plx_err : float, float ]\n",
    "         Parallax and uncertainty. Default None.\n",
    "        [ logg_spec, logg_spec_err : float, float ]\n",
    "         Spectroscopic log g and uncertainty. Default None.\n",
    "        [ teff_spec, teff_spec_err : float, float ]\n",
    "         Spectroscopic temperature and uncertainty. Default None.  \n",
    "        [ jmag, jmag_err : float, float ]\n",
    "         J-band magnitude and uncertainty. Default None.\n",
    "        [ hmag, hmag_err : float, float ]\n",
    "         H-band magnitude and uncertainty. Default None. \n",
    "        [ kmag, kmag_err : float, float ]\n",
    "         K-band magnitude and uncertainty. Default None.\n",
    "        HISTORY:                                                                                            \n",
    "        Created 8 sep 20\n",
    "        Joel Zinn (j.zinn@unsw.edu.au)\n",
    "        '''\n",
    "    \n",
    "    def numax_JHK(mass=1., AK=None, N_samples=1000):                                     \n",
    "        \"\"\"                                                                                                 \n",
    "        Evaluate a prior on numax based on 2MASS magnitudes and Gaia parallax                               \n",
    "        INPUTS:                                                                                              \n",
    "        [ plx, plx_err, jmag, jmag_err, hmag, hmag_err, kmag, kmag_err ] : [ float, float, float, float, float, float, float, float ]\n",
    "         These need to be defined in __init__().\n",
    "        [ mass : float ]\n",
    "         Optional mass prior option (not yet implemented!!!). Default 1.               \n",
    "        [ AK : float ]\n",
    "         Optional K band extinction. Default None.                                                               \n",
    "        [ N_samples : int ]\n",
    "         Number of samples from the prior to take and then return. Default 1000.        \n",
    "        OUTPUTS:                                                                                             \n",
    "        out - summary statistics assuming samples are Gaussian distributed (numax_mean, numax_sigma)    \n",
    "        samples - samples from the prior                                                                \n",
    "        HISTORY:                                                                                            \n",
    "        Written - Mackereth - 08/09/2020 (UoB @ online.tess.science)\n",
    "        Modified JCZ 8 sep 20\n",
    "        \"\"\"                                                                                                 \n",
    "        means = np.array([self.jmag, self.hmag, self.kmag, self.plx])                                                   \n",
    "        cov = np.zeros((4,4))                                                                               \n",
    "        cov[0,0] = self.jmag_err**2                                                                                  \n",
    "        cov[1,1] = self.hmag_err**2                                                                                  \n",
    "        cov[2,2] = self.kmag_err**2                                                                                  \n",
    "        cov[3,3] = self.plx_err**2                                                                           \n",
    "        multi_norm = multivariate_normal(means, cov)                                                        \n",
    "        samples = multi_norm.rvs(size=N_samples)                                                            \n",
    "        Jsamp, Hsamp, Ksamp, parallaxsamp = samples[:,0], samples[:,1], samples[:,2], samples[:,3]          \n",
    "        numaxsamp = prob.numax_from_JHK(Jsamp, Hsamp, Ksamp, parallaxsamp, mass=mass, AK=AK)                \n",
    "        numax_mean = np.mean(numaxsamp)                                                                     \n",
    "        numax_sigma = np.std(numaxsamp)                                                                     \n",
    "        return (numax_mean, numax_sigma), numaxsamp                                                         \n",
    "\n",
    "def get_gaiascalnmx():\n",
    "    nup = NuPrior(plx=1.0, plx_err=0.01, jmag=10., jmag_err=0.01, hmag=12., hmag_err=0.01, kmag=11., kmag_err=0.01)\n",
    "    print('(numax_mean, numax_sigma, numax_amp) from gaiascalnmx:')\n",
    "    print(nup.numax_JHK())\n",
    "get_gaiascalnmx()  \n",
    "\n",
    "    "
   ]
  },
  {
   "cell_type": "code",
   "execution_count": null,
   "metadata": {
    "collapsed": true
   },
   "outputs": [],
   "source": [
    "\n",
    "\n"
   ]
  }
 ],
 "metadata": {
  "kernelspec": {
   "display_name": "Python 3",
   "language": "python",
   "name": "python3"
  },
  "language_info": {
   "codemirror_mode": {
    "name": "ipython",
    "version": 3
   },
   "file_extension": ".py",
   "mimetype": "text/x-python",
   "name": "python",
   "nbconvert_exporter": "python",
   "pygments_lexer": "ipython3",
   "version": "3.5.2"
  }
 },
 "nbformat": 4,
 "nbformat_minor": 2
}
